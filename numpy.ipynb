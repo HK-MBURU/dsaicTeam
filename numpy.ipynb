{
 "cells": [
  {
   "cell_type": "code",
   "execution_count": 1,
   "id": "c66feaa8",
   "metadata": {},
   "outputs": [
    {
     "name": "stdout",
     "output_type": "stream",
     "text": [
      "Requirement already satisfied: numpy in c:\\users\\user\\anaconda3\\lib\\site-packages (1.21.5)\n",
      "Note: you may need to restart the kernel to use updated packages.\n"
     ]
    }
   ],
   "source": [
    "#installing numpy\n",
    "pip install numpy"
   ]
  },
  {
   "cell_type": "code",
   "execution_count": 2,
   "id": "d857d32a",
   "metadata": {},
   "outputs": [],
   "source": [
    "#importing numpy\n",
    "import numpy as np"
   ]
  },
  {
   "cell_type": "code",
   "execution_count": 3,
   "id": "df345207",
   "metadata": {},
   "outputs": [],
   "source": [
    "data=np.random.rand(2,3,4)\n",
    "zeroes=np.zeros((2,2,2))\n",
    "full=np.full((2,2,2),7)\n",
    "ones=np.ones((2,2,2))"
   ]
  },
  {
   "cell_type": "code",
   "execution_count": 4,
   "id": "6b3fe63f",
   "metadata": {},
   "outputs": [
    {
     "data": {
      "text/plain": [
       "array([[[0.58547499, 0.69104897, 0.75975403, 0.65755705],\n",
       "        [0.15574634, 0.54659   , 0.85999787, 0.96910229],\n",
       "        [0.69332913, 0.41450351, 0.19293299, 0.05346763]],\n",
       "\n",
       "       [[0.96287015, 0.15125066, 0.9476299 , 0.15237276],\n",
       "        [0.09498275, 0.36396301, 0.13696141, 0.49041229],\n",
       "        [0.42038233, 0.60866877, 0.98865479, 0.50676816]]])"
      ]
     },
     "execution_count": 4,
     "metadata": {},
     "output_type": "execute_result"
    }
   ],
   "source": [
    "data"
   ]
  },
  {
   "cell_type": "code",
   "execution_count": 5,
   "id": "ad5def0c",
   "metadata": {},
   "outputs": [
    {
     "data": {
      "text/plain": [
       "array([[[0., 0.],\n",
       "        [0., 0.]],\n",
       "\n",
       "       [[0., 0.],\n",
       "        [0., 0.]]])"
      ]
     },
     "execution_count": 5,
     "metadata": {},
     "output_type": "execute_result"
    }
   ],
   "source": [
    "zeroes"
   ]
  },
  {
   "cell_type": "code",
   "execution_count": 6,
   "id": "048c86bd",
   "metadata": {},
   "outputs": [
    {
     "data": {
      "text/plain": [
       "array([[[7, 7],\n",
       "        [7, 7]],\n",
       "\n",
       "       [[7, 7],\n",
       "        [7, 7]]])"
      ]
     },
     "execution_count": 6,
     "metadata": {},
     "output_type": "execute_result"
    }
   ],
   "source": [
    "full"
   ]
  },
  {
   "cell_type": "code",
   "execution_count": 7,
   "id": "708f6939",
   "metadata": {},
   "outputs": [
    {
     "data": {
      "text/plain": [
       "array([[[1., 1.],\n",
       "        [1., 1.]],\n",
       "\n",
       "       [[1., 1.],\n",
       "        [1., 1.]]])"
      ]
     },
     "execution_count": 7,
     "metadata": {},
     "output_type": "execute_result"
    }
   ],
   "source": [
    "ones"
   ]
  },
  {
   "cell_type": "code",
   "execution_count": 8,
   "id": "39d8ea19",
   "metadata": {},
   "outputs": [],
   "source": [
    "arr=np.array(((1,2,3,4),(1,2,3,4)))"
   ]
  },
  {
   "cell_type": "code",
   "execution_count": 9,
   "id": "7b7118e9",
   "metadata": {},
   "outputs": [
    {
     "data": {
      "text/plain": [
       "array([[1, 2, 3, 4],\n",
       "       [1, 2, 3, 4]])"
      ]
     },
     "execution_count": 9,
     "metadata": {},
     "output_type": "execute_result"
    }
   ],
   "source": [
    "arr"
   ]
  },
  {
   "cell_type": "code",
   "execution_count": 10,
   "id": "4deca230",
   "metadata": {},
   "outputs": [
    {
     "data": {
      "text/plain": [
       "numpy.ndarray"
      ]
     },
     "execution_count": 10,
     "metadata": {},
     "output_type": "execute_result"
    }
   ],
   "source": [
    "type(arr)"
   ]
  },
  {
   "cell_type": "code",
   "execution_count": 12,
   "id": "3ef5b9b3",
   "metadata": {},
   "outputs": [],
   "source": [
    "#attributes\n",
    "shape=data.shape\n",
    "size=data.size\n",
    "types=data.dtype"
   ]
  },
  {
   "cell_type": "code",
   "execution_count": 13,
   "id": "20bab4cd",
   "metadata": {},
   "outputs": [
    {
     "data": {
      "text/plain": [
       "(2, 3, 4)"
      ]
     },
     "execution_count": 13,
     "metadata": {},
     "output_type": "execute_result"
    }
   ],
   "source": [
    "shape"
   ]
  },
  {
   "cell_type": "code",
   "execution_count": 14,
   "id": "fa0d0220",
   "metadata": {},
   "outputs": [
    {
     "data": {
      "text/plain": [
       "24"
      ]
     },
     "execution_count": 14,
     "metadata": {},
     "output_type": "execute_result"
    }
   ],
   "source": [
    "size"
   ]
  },
  {
   "cell_type": "code",
   "execution_count": 15,
   "id": "b2c79add",
   "metadata": {},
   "outputs": [
    {
     "data": {
      "text/plain": [
       "dtype('float64')"
      ]
     },
     "execution_count": 15,
     "metadata": {},
     "output_type": "execute_result"
    }
   ],
   "source": [
    "types"
   ]
  },
  {
   "cell_type": "code",
   "execution_count": 1,
   "id": "628c68bc",
   "metadata": {},
   "outputs": [],
   "source": [
    "import pandas as pd"
   ]
  },
  {
   "cell_type": "code",
   "execution_count": 2,
   "id": "ea37d01c",
   "metadata": {},
   "outputs": [],
   "source": [
    "df=pd.read_csv(\"iris.csv\")"
   ]
  },
  {
   "cell_type": "code",
   "execution_count": 3,
   "id": "b100835c",
   "metadata": {},
   "outputs": [
    {
     "data": {
      "text/html": [
       "<div>\n",
       "<style scoped>\n",
       "    .dataframe tbody tr th:only-of-type {\n",
       "        vertical-align: middle;\n",
       "    }\n",
       "\n",
       "    .dataframe tbody tr th {\n",
       "        vertical-align: top;\n",
       "    }\n",
       "\n",
       "    .dataframe thead th {\n",
       "        text-align: right;\n",
       "    }\n",
       "</style>\n",
       "<table border=\"1\" class=\"dataframe\">\n",
       "  <thead>\n",
       "    <tr style=\"text-align: right;\">\n",
       "      <th></th>\n",
       "      <th>sepal_length</th>\n",
       "      <th>sepal_width</th>\n",
       "      <th>petal_length</th>\n",
       "      <th>petal_width</th>\n",
       "      <th>species</th>\n",
       "    </tr>\n",
       "  </thead>\n",
       "  <tbody>\n",
       "    <tr>\n",
       "      <th>0</th>\n",
       "      <td>5.1</td>\n",
       "      <td>3.5</td>\n",
       "      <td>1.4</td>\n",
       "      <td>0.2</td>\n",
       "      <td>Iris-setosa</td>\n",
       "    </tr>\n",
       "    <tr>\n",
       "      <th>1</th>\n",
       "      <td>4.9</td>\n",
       "      <td>3.0</td>\n",
       "      <td>1.4</td>\n",
       "      <td>0.2</td>\n",
       "      <td>Iris-setosa</td>\n",
       "    </tr>\n",
       "    <tr>\n",
       "      <th>2</th>\n",
       "      <td>4.7</td>\n",
       "      <td>3.2</td>\n",
       "      <td>1.3</td>\n",
       "      <td>0.2</td>\n",
       "      <td>Iris-setosa</td>\n",
       "    </tr>\n",
       "    <tr>\n",
       "      <th>3</th>\n",
       "      <td>4.6</td>\n",
       "      <td>3.1</td>\n",
       "      <td>1.5</td>\n",
       "      <td>0.2</td>\n",
       "      <td>Iris-setosa</td>\n",
       "    </tr>\n",
       "    <tr>\n",
       "      <th>4</th>\n",
       "      <td>5.0</td>\n",
       "      <td>3.6</td>\n",
       "      <td>1.4</td>\n",
       "      <td>0.2</td>\n",
       "      <td>Iris-setosa</td>\n",
       "    </tr>\n",
       "    <tr>\n",
       "      <th>...</th>\n",
       "      <td>...</td>\n",
       "      <td>...</td>\n",
       "      <td>...</td>\n",
       "      <td>...</td>\n",
       "      <td>...</td>\n",
       "    </tr>\n",
       "    <tr>\n",
       "      <th>145</th>\n",
       "      <td>6.7</td>\n",
       "      <td>3.0</td>\n",
       "      <td>5.2</td>\n",
       "      <td>2.3</td>\n",
       "      <td>Iris-virginica</td>\n",
       "    </tr>\n",
       "    <tr>\n",
       "      <th>146</th>\n",
       "      <td>6.3</td>\n",
       "      <td>2.5</td>\n",
       "      <td>5.0</td>\n",
       "      <td>1.9</td>\n",
       "      <td>Iris-virginica</td>\n",
       "    </tr>\n",
       "    <tr>\n",
       "      <th>147</th>\n",
       "      <td>6.5</td>\n",
       "      <td>3.0</td>\n",
       "      <td>5.2</td>\n",
       "      <td>2.0</td>\n",
       "      <td>Iris-virginica</td>\n",
       "    </tr>\n",
       "    <tr>\n",
       "      <th>148</th>\n",
       "      <td>6.2</td>\n",
       "      <td>3.4</td>\n",
       "      <td>5.4</td>\n",
       "      <td>2.3</td>\n",
       "      <td>Iris-virginica</td>\n",
       "    </tr>\n",
       "    <tr>\n",
       "      <th>149</th>\n",
       "      <td>5.9</td>\n",
       "      <td>3.0</td>\n",
       "      <td>5.1</td>\n",
       "      <td>1.8</td>\n",
       "      <td>Iris-virginica</td>\n",
       "    </tr>\n",
       "  </tbody>\n",
       "</table>\n",
       "<p>150 rows × 5 columns</p>\n",
       "</div>"
      ],
      "text/plain": [
       "     sepal_length  sepal_width  petal_length  petal_width         species\n",
       "0             5.1          3.5           1.4          0.2     Iris-setosa\n",
       "1             4.9          3.0           1.4          0.2     Iris-setosa\n",
       "2             4.7          3.2           1.3          0.2     Iris-setosa\n",
       "3             4.6          3.1           1.5          0.2     Iris-setosa\n",
       "4             5.0          3.6           1.4          0.2     Iris-setosa\n",
       "..            ...          ...           ...          ...             ...\n",
       "145           6.7          3.0           5.2          2.3  Iris-virginica\n",
       "146           6.3          2.5           5.0          1.9  Iris-virginica\n",
       "147           6.5          3.0           5.2          2.0  Iris-virginica\n",
       "148           6.2          3.4           5.4          2.3  Iris-virginica\n",
       "149           5.9          3.0           5.1          1.8  Iris-virginica\n",
       "\n",
       "[150 rows x 5 columns]"
      ]
     },
     "execution_count": 3,
     "metadata": {},
     "output_type": "execute_result"
    }
   ],
   "source": [
    "df"
   ]
  },
  {
   "cell_type": "code",
   "execution_count": 4,
   "id": "4b33de78",
   "metadata": {},
   "outputs": [],
   "source": [
    "#converting pandas to numpy\n",
    "array=df.to_numpy()"
   ]
  },
  {
   "cell_type": "code",
   "execution_count": 5,
   "id": "e66fa89a",
   "metadata": {},
   "outputs": [
    {
     "data": {
      "text/plain": [
       "array([[5.1, 3.5, 1.4, 0.2, 'Iris-setosa'],\n",
       "       [4.9, 3.0, 1.4, 0.2, 'Iris-setosa'],\n",
       "       [4.7, 3.2, 1.3, 0.2, 'Iris-setosa'],\n",
       "       [4.6, 3.1, 1.5, 0.2, 'Iris-setosa'],\n",
       "       [5.0, 3.6, 1.4, 0.2, 'Iris-setosa'],\n",
       "       [5.4, 3.9, 1.7, 0.4, 'Iris-setosa'],\n",
       "       [4.6, 3.4, 1.4, 0.3, 'Iris-setosa'],\n",
       "       [5.0, 3.4, 1.5, 0.2, 'Iris-setosa'],\n",
       "       [4.4, 2.9, 1.4, 0.2, 'Iris-setosa'],\n",
       "       [4.9, 3.1, 1.5, 0.1, 'Iris-setosa'],\n",
       "       [5.4, 3.7, 1.5, 0.2, 'Iris-setosa'],\n",
       "       [4.8, 3.4, 1.6, 0.2, 'Iris-setosa'],\n",
       "       [4.8, 3.0, 1.4, 0.1, 'Iris-setosa'],\n",
       "       [4.3, 3.0, 1.1, 0.1, 'Iris-setosa'],\n",
       "       [5.8, 4.0, 1.2, 0.2, 'Iris-setosa'],\n",
       "       [5.7, 4.4, 1.5, 0.4, 'Iris-setosa'],\n",
       "       [5.4, 3.9, 1.3, 0.4, 'Iris-setosa'],\n",
       "       [5.1, 3.5, 1.4, 0.3, 'Iris-setosa'],\n",
       "       [5.7, 3.8, 1.7, 0.3, 'Iris-setosa'],\n",
       "       [5.1, 3.8, 1.5, 0.3, 'Iris-setosa'],\n",
       "       [5.4, 3.4, 1.7, 0.2, 'Iris-setosa'],\n",
       "       [5.1, 3.7, 1.5, 0.4, 'Iris-setosa'],\n",
       "       [4.6, 3.6, 1.0, 0.2, 'Iris-setosa'],\n",
       "       [5.1, 3.3, 1.7, 0.5, 'Iris-setosa'],\n",
       "       [4.8, 3.4, 1.9, 0.2, 'Iris-setosa'],\n",
       "       [5.0, 3.0, 1.6, 0.2, 'Iris-setosa'],\n",
       "       [5.0, 3.4, 1.6, 0.4, 'Iris-setosa'],\n",
       "       [5.2, 3.5, 1.5, 0.2, 'Iris-setosa'],\n",
       "       [5.2, 3.4, 1.4, 0.2, 'Iris-setosa'],\n",
       "       [4.7, 3.2, 1.6, 0.2, 'Iris-setosa'],\n",
       "       [4.8, 3.1, 1.6, 0.2, 'Iris-setosa'],\n",
       "       [5.4, 3.4, 1.5, 0.4, 'Iris-setosa'],\n",
       "       [5.2, 4.1, 1.5, 0.1, 'Iris-setosa'],\n",
       "       [5.5, 4.2, 1.4, 0.2, 'Iris-setosa'],\n",
       "       [4.9, 3.1, 1.5, 0.1, 'Iris-setosa'],\n",
       "       [5.0, 3.2, 1.2, 0.2, 'Iris-setosa'],\n",
       "       [5.5, 3.5, 1.3, 0.2, 'Iris-setosa'],\n",
       "       [4.9, 3.1, 1.5, 0.1, 'Iris-setosa'],\n",
       "       [4.4, 3.0, 1.3, 0.2, 'Iris-setosa'],\n",
       "       [5.1, 3.4, 1.5, 0.2, 'Iris-setosa'],\n",
       "       [5.0, 3.5, 1.3, 0.3, 'Iris-setosa'],\n",
       "       [4.5, 2.3, 1.3, 0.3, 'Iris-setosa'],\n",
       "       [4.4, 3.2, 1.3, 0.2, 'Iris-setosa'],\n",
       "       [5.0, 3.5, 1.6, 0.6, 'Iris-setosa'],\n",
       "       [5.1, 3.8, 1.9, 0.4, 'Iris-setosa'],\n",
       "       [4.8, 3.0, 1.4, 0.3, 'Iris-setosa'],\n",
       "       [5.1, 3.8, 1.6, 0.2, 'Iris-setosa'],\n",
       "       [4.6, 3.2, 1.4, 0.2, 'Iris-setosa'],\n",
       "       [5.3, 3.7, 1.5, 0.2, 'Iris-setosa'],\n",
       "       [5.0, 3.3, 1.4, 0.2, 'Iris-setosa'],\n",
       "       [7.0, 3.2, 4.7, 1.4, 'Iris-versicolor'],\n",
       "       [6.4, 3.2, 4.5, 1.5, 'Iris-versicolor'],\n",
       "       [6.9, 3.1, 4.9, 1.5, 'Iris-versicolor'],\n",
       "       [5.5, 2.3, 4.0, 1.3, 'Iris-versicolor'],\n",
       "       [6.5, 2.8, 4.6, 1.5, 'Iris-versicolor'],\n",
       "       [5.7, 2.8, 4.5, 1.3, 'Iris-versicolor'],\n",
       "       [6.3, 3.3, 4.7, 1.6, 'Iris-versicolor'],\n",
       "       [4.9, 2.4, 3.3, 1.0, 'Iris-versicolor'],\n",
       "       [6.6, 2.9, 4.6, 1.3, 'Iris-versicolor'],\n",
       "       [5.2, 2.7, 3.9, 1.4, 'Iris-versicolor'],\n",
       "       [5.0, 2.0, 3.5, 1.0, 'Iris-versicolor'],\n",
       "       [5.9, 3.0, 4.2, 1.5, 'Iris-versicolor'],\n",
       "       [6.0, 2.2, 4.0, 1.0, 'Iris-versicolor'],\n",
       "       [6.1, 2.9, 4.7, 1.4, 'Iris-versicolor'],\n",
       "       [5.6, 2.9, 3.6, 1.3, 'Iris-versicolor'],\n",
       "       [6.7, 3.1, 4.4, 1.4, 'Iris-versicolor'],\n",
       "       [5.6, 3.0, 4.5, 1.5, 'Iris-versicolor'],\n",
       "       [5.8, 2.7, 4.1, 1.0, 'Iris-versicolor'],\n",
       "       [6.2, 2.2, 4.5, 1.5, 'Iris-versicolor'],\n",
       "       [5.6, 2.5, 3.9, 1.1, 'Iris-versicolor'],\n",
       "       [5.9, 3.2, 4.8, 1.8, 'Iris-versicolor'],\n",
       "       [6.1, 2.8, 4.0, 1.3, 'Iris-versicolor'],\n",
       "       [6.3, 2.5, 4.9, 1.5, 'Iris-versicolor'],\n",
       "       [6.1, 2.8, 4.7, 1.2, 'Iris-versicolor'],\n",
       "       [6.4, 2.9, 4.3, 1.3, 'Iris-versicolor'],\n",
       "       [6.6, 3.0, 4.4, 1.4, 'Iris-versicolor'],\n",
       "       [6.8, 2.8, 4.8, 1.4, 'Iris-versicolor'],\n",
       "       [6.7, 3.0, 5.0, 1.7, 'Iris-versicolor'],\n",
       "       [6.0, 2.9, 4.5, 1.5, 'Iris-versicolor'],\n",
       "       [5.7, 2.6, 3.5, 1.0, 'Iris-versicolor'],\n",
       "       [5.5, 2.4, 3.8, 1.1, 'Iris-versicolor'],\n",
       "       [5.5, 2.4, 3.7, 1.0, 'Iris-versicolor'],\n",
       "       [5.8, 2.7, 3.9, 1.2, 'Iris-versicolor'],\n",
       "       [6.0, 2.7, 5.1, 1.6, 'Iris-versicolor'],\n",
       "       [5.4, 3.0, 4.5, 1.5, 'Iris-versicolor'],\n",
       "       [6.0, 3.4, 4.5, 1.6, 'Iris-versicolor'],\n",
       "       [6.7, 3.1, 4.7, 1.5, 'Iris-versicolor'],\n",
       "       [6.3, 2.3, 4.4, 1.3, 'Iris-versicolor'],\n",
       "       [5.6, 3.0, 4.1, 1.3, 'Iris-versicolor'],\n",
       "       [5.5, 2.5, 4.0, 1.3, 'Iris-versicolor'],\n",
       "       [5.5, 2.6, 4.4, 1.2, 'Iris-versicolor'],\n",
       "       [6.1, 3.0, 4.6, 1.4, 'Iris-versicolor'],\n",
       "       [5.8, 2.6, 4.0, 1.2, 'Iris-versicolor'],\n",
       "       [5.0, 2.3, 3.3, 1.0, 'Iris-versicolor'],\n",
       "       [5.6, 2.7, 4.2, 1.3, 'Iris-versicolor'],\n",
       "       [5.7, 3.0, 4.2, 1.2, 'Iris-versicolor'],\n",
       "       [5.7, 2.9, 4.2, 1.3, 'Iris-versicolor'],\n",
       "       [6.2, 2.9, 4.3, 1.3, 'Iris-versicolor'],\n",
       "       [5.1, 2.5, 3.0, 1.1, 'Iris-versicolor'],\n",
       "       [5.7, 2.8, 4.1, 1.3, 'Iris-versicolor'],\n",
       "       [6.3, 3.3, 6.0, 2.5, 'Iris-virginica'],\n",
       "       [5.8, 2.7, 5.1, 1.9, 'Iris-virginica'],\n",
       "       [7.1, 3.0, 5.9, 2.1, 'Iris-virginica'],\n",
       "       [6.3, 2.9, 5.6, 1.8, 'Iris-virginica'],\n",
       "       [6.5, 3.0, 5.8, 2.2, 'Iris-virginica'],\n",
       "       [7.6, 3.0, 6.6, 2.1, 'Iris-virginica'],\n",
       "       [4.9, 2.5, 4.5, 1.7, 'Iris-virginica'],\n",
       "       [7.3, 2.9, 6.3, 1.8, 'Iris-virginica'],\n",
       "       [6.7, 2.5, 5.8, 1.8, 'Iris-virginica'],\n",
       "       [7.2, 3.6, 6.1, 2.5, 'Iris-virginica'],\n",
       "       [6.5, 3.2, 5.1, 2.0, 'Iris-virginica'],\n",
       "       [6.4, 2.7, 5.3, 1.9, 'Iris-virginica'],\n",
       "       [6.8, 3.0, 5.5, 2.1, 'Iris-virginica'],\n",
       "       [5.7, 2.5, 5.0, 2.0, 'Iris-virginica'],\n",
       "       [5.8, 2.8, 5.1, 2.4, 'Iris-virginica'],\n",
       "       [6.4, 3.2, 5.3, 2.3, 'Iris-virginica'],\n",
       "       [6.5, 3.0, 5.5, 1.8, 'Iris-virginica'],\n",
       "       [7.7, 3.8, 6.7, 2.2, 'Iris-virginica'],\n",
       "       [7.7, 2.6, 6.9, 2.3, 'Iris-virginica'],\n",
       "       [6.0, 2.2, 5.0, 1.5, 'Iris-virginica'],\n",
       "       [6.9, 3.2, 5.7, 2.3, 'Iris-virginica'],\n",
       "       [5.6, 2.8, 4.9, 2.0, 'Iris-virginica'],\n",
       "       [7.7, 2.8, 6.7, 2.0, 'Iris-virginica'],\n",
       "       [6.3, 2.7, 4.9, 1.8, 'Iris-virginica'],\n",
       "       [6.7, 3.3, 5.7, 2.1, 'Iris-virginica'],\n",
       "       [7.2, 3.2, 6.0, 1.8, 'Iris-virginica'],\n",
       "       [6.2, 2.8, 4.8, 1.8, 'Iris-virginica'],\n",
       "       [6.1, 3.0, 4.9, 1.8, 'Iris-virginica'],\n",
       "       [6.4, 2.8, 5.6, 2.1, 'Iris-virginica'],\n",
       "       [7.2, 3.0, 5.8, 1.6, 'Iris-virginica'],\n",
       "       [7.4, 2.8, 6.1, 1.9, 'Iris-virginica'],\n",
       "       [7.9, 3.8, 6.4, 2.0, 'Iris-virginica'],\n",
       "       [6.4, 2.8, 5.6, 2.2, 'Iris-virginica'],\n",
       "       [6.3, 2.8, 5.1, 1.5, 'Iris-virginica'],\n",
       "       [6.1, 2.6, 5.6, 1.4, 'Iris-virginica'],\n",
       "       [7.7, 3.0, 6.1, 2.3, 'Iris-virginica'],\n",
       "       [6.3, 3.4, 5.6, 2.4, 'Iris-virginica'],\n",
       "       [6.4, 3.1, 5.5, 1.8, 'Iris-virginica'],\n",
       "       [6.0, 3.0, 4.8, 1.8, 'Iris-virginica'],\n",
       "       [6.9, 3.1, 5.4, 2.1, 'Iris-virginica'],\n",
       "       [6.7, 3.1, 5.6, 2.4, 'Iris-virginica'],\n",
       "       [6.9, 3.1, 5.1, 2.3, 'Iris-virginica'],\n",
       "       [5.8, 2.7, 5.1, 1.9, 'Iris-virginica'],\n",
       "       [6.8, 3.2, 5.9, 2.3, 'Iris-virginica'],\n",
       "       [6.7, 3.3, 5.7, 2.5, 'Iris-virginica'],\n",
       "       [6.7, 3.0, 5.2, 2.3, 'Iris-virginica'],\n",
       "       [6.3, 2.5, 5.0, 1.9, 'Iris-virginica'],\n",
       "       [6.5, 3.0, 5.2, 2.0, 'Iris-virginica'],\n",
       "       [6.2, 3.4, 5.4, 2.3, 'Iris-virginica'],\n",
       "       [5.9, 3.0, 5.1, 1.8, 'Iris-virginica']], dtype=object)"
      ]
     },
     "execution_count": 5,
     "metadata": {},
     "output_type": "execute_result"
    }
   ],
   "source": [
    "array"
   ]
  },
  {
   "cell_type": "code",
   "execution_count": 9,
   "id": "32c43cab",
   "metadata": {},
   "outputs": [],
   "source": [
    "import numpy as np"
   ]
  },
  {
   "cell_type": "code",
   "execution_count": 10,
   "id": "b09b4803",
   "metadata": {},
   "outputs": [],
   "source": [
    "dataset=np.array(array)"
   ]
  },
  {
   "cell_type": "code",
   "execution_count": 11,
   "id": "758a463a",
   "metadata": {},
   "outputs": [
    {
     "name": "stdout",
     "output_type": "stream",
     "text": [
      "[4.9 3.0 1.4 0.2 'Iris-setosa']\n"
     ]
    }
   ],
   "source": [
    "print(dataset[1])"
   ]
  },
  {
   "cell_type": "code",
   "execution_count": 15,
   "id": "19aa7ec9",
   "metadata": {},
   "outputs": [
    {
     "name": "stdout",
     "output_type": "stream",
     "text": [
      "3.0\n"
     ]
    }
   ],
   "source": [
    "#accesing single value in two dimension array\n",
    "print(dataset[1][1])"
   ]
  },
  {
   "cell_type": "code",
   "execution_count": 16,
   "id": "5e984373",
   "metadata": {},
   "outputs": [
    {
     "name": "stdout",
     "output_type": "stream",
     "text": [
      "(150, 5)\n"
     ]
    }
   ],
   "source": [
    "#shaping in nupy\n",
    "print(dataset.shape)"
   ]
  },
  {
   "cell_type": "code",
   "execution_count": 41,
   "id": "051abedf",
   "metadata": {},
   "outputs": [],
   "source": [
    "#reshaping an array\n",
    "#dataset=dataset.reshape(4:5)\n",
    "#print(array(dataset))"
   ]
  },
  {
   "cell_type": "code",
   "execution_count": 20,
   "id": "7e79d71e",
   "metadata": {},
   "outputs": [],
   "source": [
    "#splitting array\n",
    "new=np.array_split(dataset,3)"
   ]
  },
  {
   "cell_type": "code",
   "execution_count": 21,
   "id": "168d9da1",
   "metadata": {},
   "outputs": [
    {
     "name": "stdout",
     "output_type": "stream",
     "text": [
      "[array([[5.1, 3.5, 1.4, 0.2, 'Iris-setosa'],\n",
      "       [4.9, 3.0, 1.4, 0.2, 'Iris-setosa'],\n",
      "       [4.7, 3.2, 1.3, 0.2, 'Iris-setosa'],\n",
      "       [4.6, 3.1, 1.5, 0.2, 'Iris-setosa'],\n",
      "       [5.0, 3.6, 1.4, 0.2, 'Iris-setosa'],\n",
      "       [5.4, 3.9, 1.7, 0.4, 'Iris-setosa'],\n",
      "       [4.6, 3.4, 1.4, 0.3, 'Iris-setosa'],\n",
      "       [5.0, 3.4, 1.5, 0.2, 'Iris-setosa'],\n",
      "       [4.4, 2.9, 1.4, 0.2, 'Iris-setosa'],\n",
      "       [4.9, 3.1, 1.5, 0.1, 'Iris-setosa'],\n",
      "       [5.4, 3.7, 1.5, 0.2, 'Iris-setosa'],\n",
      "       [4.8, 3.4, 1.6, 0.2, 'Iris-setosa'],\n",
      "       [4.8, 3.0, 1.4, 0.1, 'Iris-setosa'],\n",
      "       [4.3, 3.0, 1.1, 0.1, 'Iris-setosa'],\n",
      "       [5.8, 4.0, 1.2, 0.2, 'Iris-setosa'],\n",
      "       [5.7, 4.4, 1.5, 0.4, 'Iris-setosa'],\n",
      "       [5.4, 3.9, 1.3, 0.4, 'Iris-setosa'],\n",
      "       [5.1, 3.5, 1.4, 0.3, 'Iris-setosa'],\n",
      "       [5.7, 3.8, 1.7, 0.3, 'Iris-setosa'],\n",
      "       [5.1, 3.8, 1.5, 0.3, 'Iris-setosa'],\n",
      "       [5.4, 3.4, 1.7, 0.2, 'Iris-setosa'],\n",
      "       [5.1, 3.7, 1.5, 0.4, 'Iris-setosa'],\n",
      "       [4.6, 3.6, 1.0, 0.2, 'Iris-setosa'],\n",
      "       [5.1, 3.3, 1.7, 0.5, 'Iris-setosa'],\n",
      "       [4.8, 3.4, 1.9, 0.2, 'Iris-setosa'],\n",
      "       [5.0, 3.0, 1.6, 0.2, 'Iris-setosa'],\n",
      "       [5.0, 3.4, 1.6, 0.4, 'Iris-setosa'],\n",
      "       [5.2, 3.5, 1.5, 0.2, 'Iris-setosa'],\n",
      "       [5.2, 3.4, 1.4, 0.2, 'Iris-setosa'],\n",
      "       [4.7, 3.2, 1.6, 0.2, 'Iris-setosa'],\n",
      "       [4.8, 3.1, 1.6, 0.2, 'Iris-setosa'],\n",
      "       [5.4, 3.4, 1.5, 0.4, 'Iris-setosa'],\n",
      "       [5.2, 4.1, 1.5, 0.1, 'Iris-setosa'],\n",
      "       [5.5, 4.2, 1.4, 0.2, 'Iris-setosa'],\n",
      "       [4.9, 3.1, 1.5, 0.1, 'Iris-setosa'],\n",
      "       [5.0, 3.2, 1.2, 0.2, 'Iris-setosa'],\n",
      "       [5.5, 3.5, 1.3, 0.2, 'Iris-setosa'],\n",
      "       [4.9, 3.1, 1.5, 0.1, 'Iris-setosa'],\n",
      "       [4.4, 3.0, 1.3, 0.2, 'Iris-setosa'],\n",
      "       [5.1, 3.4, 1.5, 0.2, 'Iris-setosa'],\n",
      "       [5.0, 3.5, 1.3, 0.3, 'Iris-setosa'],\n",
      "       [4.5, 2.3, 1.3, 0.3, 'Iris-setosa'],\n",
      "       [4.4, 3.2, 1.3, 0.2, 'Iris-setosa'],\n",
      "       [5.0, 3.5, 1.6, 0.6, 'Iris-setosa'],\n",
      "       [5.1, 3.8, 1.9, 0.4, 'Iris-setosa'],\n",
      "       [4.8, 3.0, 1.4, 0.3, 'Iris-setosa'],\n",
      "       [5.1, 3.8, 1.6, 0.2, 'Iris-setosa'],\n",
      "       [4.6, 3.2, 1.4, 0.2, 'Iris-setosa'],\n",
      "       [5.3, 3.7, 1.5, 0.2, 'Iris-setosa'],\n",
      "       [5.0, 3.3, 1.4, 0.2, 'Iris-setosa']], dtype=object), array([[7.0, 3.2, 4.7, 1.4, 'Iris-versicolor'],\n",
      "       [6.4, 3.2, 4.5, 1.5, 'Iris-versicolor'],\n",
      "       [6.9, 3.1, 4.9, 1.5, 'Iris-versicolor'],\n",
      "       [5.5, 2.3, 4.0, 1.3, 'Iris-versicolor'],\n",
      "       [6.5, 2.8, 4.6, 1.5, 'Iris-versicolor'],\n",
      "       [5.7, 2.8, 4.5, 1.3, 'Iris-versicolor'],\n",
      "       [6.3, 3.3, 4.7, 1.6, 'Iris-versicolor'],\n",
      "       [4.9, 2.4, 3.3, 1.0, 'Iris-versicolor'],\n",
      "       [6.6, 2.9, 4.6, 1.3, 'Iris-versicolor'],\n",
      "       [5.2, 2.7, 3.9, 1.4, 'Iris-versicolor'],\n",
      "       [5.0, 2.0, 3.5, 1.0, 'Iris-versicolor'],\n",
      "       [5.9, 3.0, 4.2, 1.5, 'Iris-versicolor'],\n",
      "       [6.0, 2.2, 4.0, 1.0, 'Iris-versicolor'],\n",
      "       [6.1, 2.9, 4.7, 1.4, 'Iris-versicolor'],\n",
      "       [5.6, 2.9, 3.6, 1.3, 'Iris-versicolor'],\n",
      "       [6.7, 3.1, 4.4, 1.4, 'Iris-versicolor'],\n",
      "       [5.6, 3.0, 4.5, 1.5, 'Iris-versicolor'],\n",
      "       [5.8, 2.7, 4.1, 1.0, 'Iris-versicolor'],\n",
      "       [6.2, 2.2, 4.5, 1.5, 'Iris-versicolor'],\n",
      "       [5.6, 2.5, 3.9, 1.1, 'Iris-versicolor'],\n",
      "       [5.9, 3.2, 4.8, 1.8, 'Iris-versicolor'],\n",
      "       [6.1, 2.8, 4.0, 1.3, 'Iris-versicolor'],\n",
      "       [6.3, 2.5, 4.9, 1.5, 'Iris-versicolor'],\n",
      "       [6.1, 2.8, 4.7, 1.2, 'Iris-versicolor'],\n",
      "       [6.4, 2.9, 4.3, 1.3, 'Iris-versicolor'],\n",
      "       [6.6, 3.0, 4.4, 1.4, 'Iris-versicolor'],\n",
      "       [6.8, 2.8, 4.8, 1.4, 'Iris-versicolor'],\n",
      "       [6.7, 3.0, 5.0, 1.7, 'Iris-versicolor'],\n",
      "       [6.0, 2.9, 4.5, 1.5, 'Iris-versicolor'],\n",
      "       [5.7, 2.6, 3.5, 1.0, 'Iris-versicolor'],\n",
      "       [5.5, 2.4, 3.8, 1.1, 'Iris-versicolor'],\n",
      "       [5.5, 2.4, 3.7, 1.0, 'Iris-versicolor'],\n",
      "       [5.8, 2.7, 3.9, 1.2, 'Iris-versicolor'],\n",
      "       [6.0, 2.7, 5.1, 1.6, 'Iris-versicolor'],\n",
      "       [5.4, 3.0, 4.5, 1.5, 'Iris-versicolor'],\n",
      "       [6.0, 3.4, 4.5, 1.6, 'Iris-versicolor'],\n",
      "       [6.7, 3.1, 4.7, 1.5, 'Iris-versicolor'],\n",
      "       [6.3, 2.3, 4.4, 1.3, 'Iris-versicolor'],\n",
      "       [5.6, 3.0, 4.1, 1.3, 'Iris-versicolor'],\n",
      "       [5.5, 2.5, 4.0, 1.3, 'Iris-versicolor'],\n",
      "       [5.5, 2.6, 4.4, 1.2, 'Iris-versicolor'],\n",
      "       [6.1, 3.0, 4.6, 1.4, 'Iris-versicolor'],\n",
      "       [5.8, 2.6, 4.0, 1.2, 'Iris-versicolor'],\n",
      "       [5.0, 2.3, 3.3, 1.0, 'Iris-versicolor'],\n",
      "       [5.6, 2.7, 4.2, 1.3, 'Iris-versicolor'],\n",
      "       [5.7, 3.0, 4.2, 1.2, 'Iris-versicolor'],\n",
      "       [5.7, 2.9, 4.2, 1.3, 'Iris-versicolor'],\n",
      "       [6.2, 2.9, 4.3, 1.3, 'Iris-versicolor'],\n",
      "       [5.1, 2.5, 3.0, 1.1, 'Iris-versicolor'],\n",
      "       [5.7, 2.8, 4.1, 1.3, 'Iris-versicolor']], dtype=object), array([[6.3, 3.3, 6.0, 2.5, 'Iris-virginica'],\n",
      "       [5.8, 2.7, 5.1, 1.9, 'Iris-virginica'],\n",
      "       [7.1, 3.0, 5.9, 2.1, 'Iris-virginica'],\n",
      "       [6.3, 2.9, 5.6, 1.8, 'Iris-virginica'],\n",
      "       [6.5, 3.0, 5.8, 2.2, 'Iris-virginica'],\n",
      "       [7.6, 3.0, 6.6, 2.1, 'Iris-virginica'],\n",
      "       [4.9, 2.5, 4.5, 1.7, 'Iris-virginica'],\n",
      "       [7.3, 2.9, 6.3, 1.8, 'Iris-virginica'],\n",
      "       [6.7, 2.5, 5.8, 1.8, 'Iris-virginica'],\n",
      "       [7.2, 3.6, 6.1, 2.5, 'Iris-virginica'],\n",
      "       [6.5, 3.2, 5.1, 2.0, 'Iris-virginica'],\n",
      "       [6.4, 2.7, 5.3, 1.9, 'Iris-virginica'],\n",
      "       [6.8, 3.0, 5.5, 2.1, 'Iris-virginica'],\n",
      "       [5.7, 2.5, 5.0, 2.0, 'Iris-virginica'],\n",
      "       [5.8, 2.8, 5.1, 2.4, 'Iris-virginica'],\n",
      "       [6.4, 3.2, 5.3, 2.3, 'Iris-virginica'],\n",
      "       [6.5, 3.0, 5.5, 1.8, 'Iris-virginica'],\n",
      "       [7.7, 3.8, 6.7, 2.2, 'Iris-virginica'],\n",
      "       [7.7, 2.6, 6.9, 2.3, 'Iris-virginica'],\n",
      "       [6.0, 2.2, 5.0, 1.5, 'Iris-virginica'],\n",
      "       [6.9, 3.2, 5.7, 2.3, 'Iris-virginica'],\n",
      "       [5.6, 2.8, 4.9, 2.0, 'Iris-virginica'],\n",
      "       [7.7, 2.8, 6.7, 2.0, 'Iris-virginica'],\n",
      "       [6.3, 2.7, 4.9, 1.8, 'Iris-virginica'],\n",
      "       [6.7, 3.3, 5.7, 2.1, 'Iris-virginica'],\n",
      "       [7.2, 3.2, 6.0, 1.8, 'Iris-virginica'],\n",
      "       [6.2, 2.8, 4.8, 1.8, 'Iris-virginica'],\n",
      "       [6.1, 3.0, 4.9, 1.8, 'Iris-virginica'],\n",
      "       [6.4, 2.8, 5.6, 2.1, 'Iris-virginica'],\n",
      "       [7.2, 3.0, 5.8, 1.6, 'Iris-virginica'],\n",
      "       [7.4, 2.8, 6.1, 1.9, 'Iris-virginica'],\n",
      "       [7.9, 3.8, 6.4, 2.0, 'Iris-virginica'],\n",
      "       [6.4, 2.8, 5.6, 2.2, 'Iris-virginica'],\n",
      "       [6.3, 2.8, 5.1, 1.5, 'Iris-virginica'],\n",
      "       [6.1, 2.6, 5.6, 1.4, 'Iris-virginica'],\n",
      "       [7.7, 3.0, 6.1, 2.3, 'Iris-virginica'],\n",
      "       [6.3, 3.4, 5.6, 2.4, 'Iris-virginica'],\n",
      "       [6.4, 3.1, 5.5, 1.8, 'Iris-virginica'],\n",
      "       [6.0, 3.0, 4.8, 1.8, 'Iris-virginica'],\n",
      "       [6.9, 3.1, 5.4, 2.1, 'Iris-virginica'],\n",
      "       [6.7, 3.1, 5.6, 2.4, 'Iris-virginica'],\n",
      "       [6.9, 3.1, 5.1, 2.3, 'Iris-virginica'],\n",
      "       [5.8, 2.7, 5.1, 1.9, 'Iris-virginica'],\n",
      "       [6.8, 3.2, 5.9, 2.3, 'Iris-virginica'],\n",
      "       [6.7, 3.3, 5.7, 2.5, 'Iris-virginica'],\n",
      "       [6.7, 3.0, 5.2, 2.3, 'Iris-virginica'],\n",
      "       [6.3, 2.5, 5.0, 1.9, 'Iris-virginica'],\n",
      "       [6.5, 3.0, 5.2, 2.0, 'Iris-virginica'],\n",
      "       [6.2, 3.4, 5.4, 2.3, 'Iris-virginica'],\n",
      "       [5.9, 3.0, 5.1, 1.8, 'Iris-virginica']], dtype=object)]\n"
     ]
    }
   ],
   "source": [
    "print(new)"
   ]
  },
  {
   "cell_type": "code",
   "execution_count": 25,
   "id": "0af1e529",
   "metadata": {},
   "outputs": [
    {
     "name": "stdout",
     "output_type": "stream",
     "text": [
      "(50, 5)\n"
     ]
    }
   ],
   "source": [
    "#shaping each split\n",
    "num=new[2]\n",
    "print(num.shape)"
   ]
  },
  {
   "cell_type": "code",
   "execution_count": 27,
   "id": "77098a4a",
   "metadata": {},
   "outputs": [
    {
     "name": "stdout",
     "output_type": "stream",
     "text": [
      "object\n"
     ]
    }
   ],
   "source": [
    "print(dataset.dtype)"
   ]
  },
  {
   "cell_type": "code",
   "execution_count": 32,
   "id": "163bed66",
   "metadata": {},
   "outputs": [
    {
     "data": {
      "text/plain": [
       "7.1"
      ]
     },
     "execution_count": 32,
     "metadata": {},
     "output_type": "execute_result"
    }
   ],
   "source": [
    "bit=new[2][2][0]\n",
    "bit"
   ]
  },
  {
   "cell_type": "code",
   "execution_count": 40,
   "id": "6f9b3db4",
   "metadata": {},
   "outputs": [
    {
     "name": "stdout",
     "output_type": "stream",
     "text": [
      "1.3\n"
     ]
    }
   ],
   "source": [
    "unsplitted=dataset[2][2]\n",
    "print(unsplitted)"
   ]
  },
  {
   "cell_type": "code",
   "execution_count": 42,
   "id": "20c45edd",
   "metadata": {},
   "outputs": [
    {
     "name": "stdout",
     "output_type": "stream",
     "text": [
      "[[4.9 3.0 1.4 0.2 'Iris-setosa']\n",
      " [4.7 3.2 1.3 0.2 'Iris-setosa']\n",
      " [4.6 3.1 1.5 0.2 'Iris-setosa']\n",
      " [5.0 3.6 1.4 0.2 'Iris-setosa']]\n"
     ]
    }
   ],
   "source": [
    "#slicing\n",
    "print(dataset[1:5])"
   ]
  },
  {
   "cell_type": "code",
   "execution_count": null,
   "id": "c6f9947c",
   "metadata": {},
   "outputs": [],
   "source": []
  }
 ],
 "metadata": {
  "kernelspec": {
   "display_name": "Python 3 (ipykernel)",
   "language": "python",
   "name": "python3"
  },
  "language_info": {
   "codemirror_mode": {
    "name": "ipython",
    "version": 3
   },
   "file_extension": ".py",
   "mimetype": "text/x-python",
   "name": "python",
   "nbconvert_exporter": "python",
   "pygments_lexer": "ipython3",
   "version": "3.9.12"
  }
 },
 "nbformat": 4,
 "nbformat_minor": 5
}
